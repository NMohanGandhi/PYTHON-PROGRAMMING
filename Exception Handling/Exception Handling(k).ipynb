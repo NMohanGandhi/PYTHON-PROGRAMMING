{
 "cells": [
  {
   "cell_type": "markdown",
   "id": "2d4654c7-6c1a-4515-aa58-a828866428bc",
   "metadata": {},
   "source": [
    "# Exception Handling"
   ]
  },
  {
   "cell_type": "markdown",
   "id": "3eda395d-ff46-4a9b-9899-fd6fa22d560c",
   "metadata": {},
   "source": [
    "#### Understanding Exceptions\n",
    "\n",
    "Exception handling in Python allows you to handle errors gracefully and take corrective actions without stopping the execution of the program. This lesson will cover the basics of exceptions, including how to use try, except, else, and finally blocks."
   ]
  },
  {
   "cell_type": "markdown",
   "id": "3d50f9a5-7c0b-450f-a760-c5dab6ff4e0d",
   "metadata": {},
   "source": [
    "##### What Are Exceptions?\n",
    "Exceptions are events that disrupt the normal flow of a program. They occur when an error is encountered during program execution. Common exceptions include:\n",
    "\n",
    "- ZeroDivisionError: Dividing by zero.\n",
    "- FileNotFoundError: File not found.\n",
    "- ValueError: Invalid value.\n",
    "- TypeError: Invalid type."
   ]
  },
  {
   "cell_type": "code",
   "execution_count": null,
   "id": "9ca59b9d-c786-4ba4-93d3-106ff13bbda8",
   "metadata": {},
   "outputs": [],
   "source": []
  },
  {
   "cell_type": "code",
   "execution_count": 5,
   "id": "63ada399-fded-47da-a33d-162b7f40a4fe",
   "metadata": {},
   "outputs": [
    {
     "ename": "NameError",
     "evalue": "name 'b' is not defined",
     "output_type": "error",
     "traceback": [
      "\u001b[1;31m---------------------------------------------------------------------------\u001b[0m",
      "\u001b[1;31mNameError\u001b[0m                                 Traceback (most recent call last)",
      "Cell \u001b[1;32mIn[5], line 1\u001b[0m\n\u001b[1;32m----> 1\u001b[0m a \u001b[38;5;241m=\u001b[39m \u001b[43mb\u001b[49m\n\u001b[0;32m      2\u001b[0m \u001b[38;5;28mprint\u001b[39m(a)\n",
      "\u001b[1;31mNameError\u001b[0m: name 'b' is not defined"
     ]
    }
   ],
   "source": [
    "a = b\n",
    "print(a)"
   ]
  },
  {
   "cell_type": "code",
   "execution_count": null,
   "id": "e377e3a6-ce3c-4a91-92b2-30f092111a79",
   "metadata": {},
   "outputs": [],
   "source": []
  },
  {
   "cell_type": "code",
   "execution_count": null,
   "id": "19e1c2bb-791e-4159-a4da-45a7dfed7f3e",
   "metadata": {},
   "outputs": [],
   "source": []
  },
  {
   "cell_type": "code",
   "execution_count": 6,
   "id": "b9103d7b-db12-40b3-841f-5e2497d4caae",
   "metadata": {},
   "outputs": [
    {
     "name": "stdout",
     "output_type": "stream",
     "text": [
      "The variable has not be assigned\n"
     ]
    }
   ],
   "source": [
    "try:\n",
    "    a=b\n",
    "    print(a)\n",
    "except:\n",
    "    print(\"The variable has not be assigned\")"
   ]
  },
  {
   "cell_type": "code",
   "execution_count": null,
   "id": "62725b63-2540-45d8-b06f-75a8a5b2b1a7",
   "metadata": {},
   "outputs": [],
   "source": []
  },
  {
   "cell_type": "code",
   "execution_count": null,
   "id": "82e5720e-19c3-410c-ac08-abedab5ac1a8",
   "metadata": {},
   "outputs": [],
   "source": []
  },
  {
   "cell_type": "code",
   "execution_count": 10,
   "id": "b3d2c772-1687-4be0-a90e-3cd821eac7c3",
   "metadata": {},
   "outputs": [
    {
     "name": "stdout",
     "output_type": "stream",
     "text": [
      "name 'b' is not defined\n"
     ]
    }
   ],
   "source": [
    "try:\n",
    "    a=b\n",
    "    print(a)\n",
    "except NameError as ex:\n",
    "    print(ex)"
   ]
  },
  {
   "cell_type": "code",
   "execution_count": 11,
   "id": "45096b49-392b-4d37-be8e-0a93c194010a",
   "metadata": {},
   "outputs": [
    {
     "ename": "ZeroDivisionError",
     "evalue": "division by zero",
     "output_type": "error",
     "traceback": [
      "\u001b[1;31m---------------------------------------------------------------------------\u001b[0m",
      "\u001b[1;31mZeroDivisionError\u001b[0m                         Traceback (most recent call last)",
      "Cell \u001b[1;32mIn[11], line 1\u001b[0m\n\u001b[1;32m----> 1\u001b[0m result \u001b[38;5;241m=\u001b[39m \u001b[38;5;241;43m1\u001b[39;49m\u001b[38;5;241;43m/\u001b[39;49m\u001b[38;5;241;43m0\u001b[39;49m\n",
      "\u001b[1;31mZeroDivisionError\u001b[0m: division by zero"
     ]
    }
   ],
   "source": [
    "result = 1/0"
   ]
  },
  {
   "cell_type": "code",
   "execution_count": null,
   "id": "91d93cd9-361f-421f-8ea9-426c01036b0a",
   "metadata": {},
   "outputs": [],
   "source": []
  },
  {
   "cell_type": "code",
   "execution_count": null,
   "id": "eb26f0fc-f305-468e-a7f3-b7dd13624307",
   "metadata": {},
   "outputs": [],
   "source": []
  },
  {
   "cell_type": "code",
   "execution_count": 13,
   "id": "ef255be2-7d0b-45de-8831-8b480f419783",
   "metadata": {},
   "outputs": [
    {
     "name": "stdout",
     "output_type": "stream",
     "text": [
      "division by zero\n",
      "Please enter the denominator greater than 0\n"
     ]
    }
   ],
   "source": [
    "try:\n",
    "    result = 1/0\n",
    "except ZeroDivisionError as ex:\n",
    "    print(ex)\n",
    "    print(\"Please enter the denominator greater than 0\")"
   ]
  },
  {
   "cell_type": "code",
   "execution_count": null,
   "id": "2d33950c-7aa6-4d09-92c2-bdb7617c4cfc",
   "metadata": {},
   "outputs": [],
   "source": []
  },
  {
   "cell_type": "code",
   "execution_count": null,
   "id": "ff67d77d-3f5d-448d-b906-a97ef5c78ee1",
   "metadata": {},
   "outputs": [],
   "source": []
  },
  {
   "cell_type": "code",
   "execution_count": 14,
   "id": "fec5cf4e-d2e2-42fd-bb3d-39d5f99ed116",
   "metadata": {},
   "outputs": [
    {
     "ename": "NameError",
     "evalue": "name 'b' is not defined",
     "output_type": "error",
     "traceback": [
      "\u001b[1;31m---------------------------------------------------------------------------\u001b[0m",
      "\u001b[1;31mNameError\u001b[0m                                 Traceback (most recent call last)",
      "Cell \u001b[1;32mIn[14], line 3\u001b[0m\n\u001b[0;32m      1\u001b[0m \u001b[38;5;28;01mtry\u001b[39;00m:\n\u001b[0;32m      2\u001b[0m     result \u001b[38;5;241m=\u001b[39m \u001b[38;5;241m1\u001b[39m\u001b[38;5;241m/\u001b[39m\u001b[38;5;241m2\u001b[39m\n\u001b[1;32m----> 3\u001b[0m     a\u001b[38;5;241m=\u001b[39m\u001b[43mb\u001b[49m\n\u001b[0;32m      4\u001b[0m \u001b[38;5;28;01mexcept\u001b[39;00m \u001b[38;5;167;01mZeroDivisionError\u001b[39;00m \u001b[38;5;28;01mas\u001b[39;00m ex:\n\u001b[0;32m      5\u001b[0m     \u001b[38;5;28mprint\u001b[39m(ex)\n",
      "\u001b[1;31mNameError\u001b[0m: name 'b' is not defined"
     ]
    }
   ],
   "source": [
    "try:\n",
    "    result = 1/2\n",
    "    a=b\n",
    "except ZeroDivisionError as ex:\n",
    "    print(ex)\n",
    "    print(\"Please enter the denominator greater than 0\")"
   ]
  },
  {
   "cell_type": "code",
   "execution_count": null,
   "id": "a6c7a94f-4558-4d2d-a251-9ee4f25bc42b",
   "metadata": {},
   "outputs": [],
   "source": []
  },
  {
   "cell_type": "code",
   "execution_count": null,
   "id": "fb651325-ad64-4259-a7d8-be4bd96aa06f",
   "metadata": {},
   "outputs": [],
   "source": []
  },
  {
   "cell_type": "code",
   "execution_count": 17,
   "id": "3fb3ccea-46ac-43f0-9f4b-b04531a3fdbb",
   "metadata": {},
   "outputs": [
    {
     "name": "stdout",
     "output_type": "stream",
     "text": [
      "name 'b' is not defined\n",
      "The variable has not be assigned please assign..\n"
     ]
    }
   ],
   "source": [
    "try:\n",
    "    result = 1/2\n",
    "    a=b\n",
    "    \n",
    "except ZeroDivisionError as ex:\n",
    "    print(ex)\n",
    "    print(\"Please enter the denominator greater than 0\")\n",
    "except NameError as ex:\n",
    "    print(ex)\n",
    "    print(\"The variable has not be assigned please assign..\")"
   ]
  },
  {
   "cell_type": "code",
   "execution_count": null,
   "id": "d6a9bf46-6b7c-457d-a824-a4bc188ca33d",
   "metadata": {},
   "outputs": [],
   "source": []
  },
  {
   "cell_type": "code",
   "execution_count": 20,
   "id": "b00bcf72-2624-4e64-8f94-6d33f399f143",
   "metadata": {},
   "outputs": [
    {
     "name": "stdout",
     "output_type": "stream",
     "text": [
      "name 'b' is not defined\n",
      "The variable has not be assigned please assign..\n"
     ]
    },
    {
     "name": "stdin",
     "output_type": "stream",
     "text": [
      "Are u intrested to learn exception handeling give (yes/no) ee\n"
     ]
    },
    {
     "name": "stdout",
     "output_type": "stream",
     "text": [
      " hey you are giving input like this ee  this format is wrong  give yes or no  please\n"
     ]
    },
    {
     "name": "stdin",
     "output_type": "stream",
     "text": [
      "Are u intrested to learn exception handeling ee\n"
     ]
    },
    {
     "name": "stdout",
     "output_type": "stream",
     "text": [
      "hey Again u are giving wrong input Bye\n"
     ]
    }
   ],
   "source": [
    "try:\n",
    "    result = 1/2\n",
    "    a=b\n",
    "    \n",
    "except ZeroDivisionError as ex:\n",
    "    print(ex)\n",
    "    print(\"Please enter the denominator greater than 0\")\n",
    "except NameError as ex:\n",
    "    print(ex)\n",
    "    print(\"The variable has not be assigned please assign..\")\n",
    "\n",
    "    \n",
    "finally:\n",
    "    try:\n",
    "        user = input(\"Are u intrested to learn exception handeling give (yes/no)\")\n",
    "        if user==\"Yes\" or  user == \"yes\":\n",
    "            print(\"Hey welcome to exception handeling\",)\n",
    "        elif user==\"no\" or user ==\"No\":\n",
    "            print(\"Hey try to learn its very useful as a developer..\")\n",
    "        else:\n",
    "            Printt(\" hey user input input wrong give yes or no\")\n",
    "                     \n",
    "            \n",
    "    except NameError:\n",
    "        print(\" hey you are giving input like this\",user,\" this format is wrong  give yes or no  please\")\n",
    "        user = input(\"Are u intrested to learn exception handeling\")\n",
    "        if user==\"Yes\" or user ==\"yes\":\n",
    "            print(\"Hey welcome to exception handeling\",)\n",
    "        elif user==\"no\" or user == \"No\":\n",
    "            print(\"Hey try to learn its very useful as a developer..\")\n",
    "        else:\n",
    "            print(\"hey Again u are giving wrong input Bye\")\n",
    "        \n",
    "    "
   ]
  },
  {
   "cell_type": "code",
   "execution_count": null,
   "id": "f6f812b9-4ddf-4c16-9390-fa1b44cbe25a",
   "metadata": {},
   "outputs": [],
   "source": []
  },
  {
   "cell_type": "code",
   "execution_count": null,
   "id": "e48017ee-5b9e-4ffd-94db-d5518f03a001",
   "metadata": {},
   "outputs": [],
   "source": []
  },
  {
   "cell_type": "code",
   "execution_count": 28,
   "id": "33480ddc-3d85-4098-a5ad-7a2533df4526",
   "metadata": {},
   "outputs": [
    {
     "name": "stdout",
     "output_type": "stream",
     "text": [
      "Open\n"
     ]
    },
    {
     "name": "stdin",
     "output_type": "stream",
     "text": [
      "Enter a Number : 84urur\n"
     ]
    },
    {
     "name": "stdout",
     "output_type": "stream",
     "text": [
      "This is not a valid number\n",
      "closed\n"
     ]
    }
   ],
   "source": [
    "try:\n",
    "    print(\"Open\")\n",
    "    num = int(input(\"Enter a Number :\"))\n",
    "    result = 10/num\n",
    "    print(result)\n",
    "except ValueError:\n",
    "    print(\"This is not a valid number\") # input give like !,@,#,HDHDH RAISE ERROR\n",
    "except ZeroDivisionError:\n",
    "    print(\"Enter  denominator greater than 0\")# 0 GIVE RAISE THIS ERROR\n",
    "except Exceptiom as ex:\n",
    "    print(Ex)\n",
    "finally:\n",
    "    print(\"closed\")"
   ]
  },
  {
   "cell_type": "code",
   "execution_count": null,
   "id": "50eb84c9-d9cd-46fc-aeff-19db0f74da2f",
   "metadata": {},
   "outputs": [],
   "source": []
  },
  {
   "cell_type": "code",
   "execution_count": null,
   "id": "22d128f1-3d9f-4a9f-a99a-12c92cf7a6c1",
   "metadata": {},
   "outputs": [],
   "source": []
  },
  {
   "cell_type": "code",
   "execution_count": 38,
   "id": "bf87122d-e950-4519-94bf-7b32d3ae0961",
   "metadata": {},
   "outputs": [
    {
     "name": "stdout",
     "output_type": "stream",
     "text": [
      "Open\n"
     ]
    },
    {
     "name": "stdin",
     "output_type": "stream",
     "text": [
      "Enter a Number : n\n"
     ]
    },
    {
     "name": "stdout",
     "output_type": "stream",
     "text": [
      "This is not a valid number\n",
      "Execution completed\n",
      "closed\n"
     ]
    }
   ],
   "source": [
    "try:\n",
    "    print(\"Open\")\n",
    "    num = int(input(\"Enter a Number :\"))\n",
    "    result = 10/num\n",
    "    \n",
    "except ValueError:\n",
    "    print(\"This is not a valid number\") # input give like !,@,#,HDHDH RAISE ERROR\n",
    "except ZeroDivisionError:\n",
    "    print(\"Enter  denominator greater than 0\")# 0 GIVE RAISE THIS ERROR\n",
    "except Exceptiom as ex:\n",
    "    print(Ex)\n",
    "else:\n",
    "    print(f\"The result is {result}\")\n",
    "finally:\n",
    "    #print(result)\n",
    "    print(\"Execution completed\")\n",
    "    print(\"closed\")"
   ]
  },
  {
   "cell_type": "code",
   "execution_count": null,
   "id": "510e3d4d-b035-445c-be14-a487072d3870",
   "metadata": {},
   "outputs": [],
   "source": []
  },
  {
   "cell_type": "code",
   "execution_count": null,
   "id": "00afa7cf-1690-40c8-b757-a158932a3568",
   "metadata": {},
   "outputs": [],
   "source": []
  },
  {
   "cell_type": "markdown",
   "id": "dd685c7a-f16b-4528-b899-51f580fb3fd6",
   "metadata": {},
   "source": [
    "# File Handling and Exception handling"
   ]
  },
  {
   "cell_type": "code",
   "execution_count": 51,
   "id": "11c99e4c-2692-4e70-8e1b-d096e6260f1d",
   "metadata": {},
   "outputs": [
    {
     "name": "stdout",
     "output_type": "stream",
     "text": [
      "name 'b' is not defined\n",
      "file close\n"
     ]
    }
   ],
   "source": [
    "try:\n",
    "    file = open('exmaple.txt','w')\n",
    "    #content = file.read()\n",
    "    a=b\n",
    "    print(content)\n",
    "except FileNotFoundError:\n",
    "    print(\"The file doesnt exists\")\n",
    "except Exception as e:\n",
    "    print(e)\n",
    "finally:\n",
    "    if 'file' in locals() or not file.closed():\n",
    "        file.close()\n",
    "        print(\"file close\")"
   ]
  },
  {
   "cell_type": "code",
   "execution_count": null,
   "id": "b5167176-c58a-4d48-bbd5-428fb63de28e",
   "metadata": {},
   "outputs": [],
   "source": []
  },
  {
   "cell_type": "code",
   "execution_count": null,
   "id": "90460aab-6695-4b5f-abca-762a2efac351",
   "metadata": {},
   "outputs": [],
   "source": []
  }
 ],
 "metadata": {
  "kernelspec": {
   "display_name": "Python 3 (ipykernel)",
   "language": "python",
   "name": "python3"
  },
  "language_info": {
   "codemirror_mode": {
    "name": "ipython",
    "version": 3
   },
   "file_extension": ".py",
   "mimetype": "text/x-python",
   "name": "python",
   "nbconvert_exporter": "python",
   "pygments_lexer": "ipython3",
   "version": "3.10.10"
  }
 },
 "nbformat": 4,
 "nbformat_minor": 5
}
