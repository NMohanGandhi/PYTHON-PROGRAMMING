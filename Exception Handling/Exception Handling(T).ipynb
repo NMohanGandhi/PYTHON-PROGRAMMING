{
 "cells": [
  {
   "cell_type": "code",
   "execution_count": 8,
   "id": "86957173-6f4a-4ebf-a426-d543332a917f",
   "metadata": {},
   "outputs": [
    {
     "name": "stdout",
     "output_type": "stream",
     "text": [
      "2.5\n",
      "Bye\n"
     ]
    }
   ],
   "source": [
    "a = 5\n",
    "b = 2\n",
    "print(a/b)\n",
    "print(\"Bye\")"
   ]
  },
  {
   "cell_type": "code",
   "execution_count": 9,
   "id": "68463df5-8d42-470c-8630-18df6f734b52",
   "metadata": {},
   "outputs": [
    {
     "ename": "ZeroDivisionError",
     "evalue": "division by zero",
     "output_type": "error",
     "traceback": [
      "\u001b[1;31m---------------------------------------------------------------------------\u001b[0m",
      "\u001b[1;31mZeroDivisionError\u001b[0m                         Traceback (most recent call last)",
      "Cell \u001b[1;32mIn[9], line 3\u001b[0m\n\u001b[0;32m      1\u001b[0m a \u001b[38;5;241m=\u001b[39m \u001b[38;5;241m5\u001b[39m\n\u001b[0;32m      2\u001b[0m b \u001b[38;5;241m=\u001b[39m \u001b[38;5;241m0\u001b[39m\n\u001b[1;32m----> 3\u001b[0m \u001b[38;5;28mprint\u001b[39m(\u001b[43ma\u001b[49m\u001b[38;5;241;43m/\u001b[39;49m\u001b[43mb\u001b[49m) \u001b[38;5;66;03m# if anything divisible by zero is not possible\u001b[39;00m\n\u001b[0;32m      4\u001b[0m \u001b[38;5;28mprint\u001b[39m(\u001b[38;5;124m\"\u001b[39m\u001b[38;5;124mBye\u001b[39m\u001b[38;5;124m\"\u001b[39m)\n",
      "\u001b[1;31mZeroDivisionError\u001b[0m: division by zero"
     ]
    }
   ],
   "source": [
    "a = 5\n",
    "b = 0\n",
    "print(a/b) # if anything divisible by zero is not possible\n",
    "print(\"Bye\")"
   ]
  },
  {
   "cell_type": "code",
   "execution_count": null,
   "id": "771c24c8-2da6-4855-947a-53e2511d4324",
   "metadata": {},
   "outputs": [],
   "source": [
    "\"\"\"\n",
    "Since dividing anything by zero is not possible, it will raise an error. \n",
    "At the same time, \n",
    "it will stop execution and will not execute the next lines\n",
    "\"\"\""
   ]
  },
  {
   "cell_type": "code",
   "execution_count": null,
   "id": "c6bd671a-8ff6-49b0-bdc4-e8776941bae0",
   "metadata": {},
   "outputs": [],
   "source": []
  },
  {
   "cell_type": "code",
   "execution_count": 10,
   "id": "0662a7f4-658b-42bc-a8c6-80bbbed4358b",
   "metadata": {},
   "outputs": [
    {
     "name": "stdout",
     "output_type": "stream",
     "text": [
      "Hey you cant divide a number by zero\n",
      "Bye!\n"
     ]
    }
   ],
   "source": [
    "a1 = 5\n",
    "b1 = 0\n",
    "try:\n",
    "    print(a/b) # critical statement\n",
    "except Exception:\n",
    "    print(\"Hey you cant divide a number by zero\")\n",
    "finally : \n",
    "    print(\"Bye!\")"
   ]
  },
  {
   "cell_type": "code",
   "execution_count": null,
   "id": "b0710cf7-9578-4cb3-978e-faa1e2afb287",
   "metadata": {},
   "outputs": [],
   "source": []
  },
  {
   "cell_type": "code",
   "execution_count": 11,
   "id": "7dc18453-db9e-4df1-93d0-dd21a22e6da3",
   "metadata": {},
   "outputs": [
    {
     "name": "stdout",
     "output_type": "stream",
     "text": [
      "division by zero\n"
     ]
    }
   ],
   "source": [
    "\n",
    "try:\n",
    "    print(a/b)\n",
    "# if we want to know which error is raising\n",
    "except Exception as e:\n",
    "    print(e)\n"
   ]
  },
  {
   "cell_type": "code",
   "execution_count": null,
   "id": "d84ca034-56f5-404d-8c62-39be33dc3199",
   "metadata": {},
   "outputs": [],
   "source": []
  },
  {
   "cell_type": "markdown",
   "id": "b21194ad-2d0d-47ae-8a47-b6a843aa7971",
   "metadata": {},
   "source": [
    "# TASK"
   ]
  },
  {
   "cell_type": "code",
   "execution_count": 12,
   "id": "9e7aa41a-d1fb-4be2-8cb6-d4cf69385b59",
   "metadata": {},
   "outputs": [
    {
     "name": "stdout",
     "output_type": "stream",
     "text": [
      "Resource open\n"
     ]
    },
    {
     "name": "stdin",
     "output_type": "stream",
     "text": [
      "Enter a number : 3\n"
     ]
    },
    {
     "name": "stdout",
     "output_type": "stream",
     "text": [
      "3\n",
      "Resource closed\n",
      "Bye\n"
     ]
    }
   ],
   "source": [
    "try:\n",
    "    print(\"Resource open\")\n",
    "    k = int(input(\"Enter a number :\"))\n",
    "    print(k)\n",
    "except ZeroDivisionError as e:\n",
    "    print(\"Hey you cant divide a number by zero\",e)\n",
    "except ValueError as e:\n",
    "    print(\"Invalid input\",e)\n",
    "except Exception as e:\n",
    "    print(\"Something went wrong...\")\n",
    "finally:\n",
    "    print(\"Resource closed\")\n",
    "    print(\"Bye\")"
   ]
  },
  {
   "cell_type": "code",
   "execution_count": null,
   "id": "31bc4533-6bbd-41d1-8147-145c937a2264",
   "metadata": {},
   "outputs": [],
   "source": []
  },
  {
   "cell_type": "code",
   "execution_count": null,
   "id": "2fa6d423-db3c-41cb-b8be-522c6a107fe5",
   "metadata": {},
   "outputs": [],
   "source": []
  }
 ],
 "metadata": {
  "kernelspec": {
   "display_name": "Python 3 (ipykernel)",
   "language": "python",
   "name": "python3"
  },
  "language_info": {
   "codemirror_mode": {
    "name": "ipython",
    "version": 3
   },
   "file_extension": ".py",
   "mimetype": "text/x-python",
   "name": "python",
   "nbconvert_exporter": "python",
   "pygments_lexer": "ipython3",
   "version": "3.10.10"
  }
 },
 "nbformat": 4,
 "nbformat_minor": 5
}
